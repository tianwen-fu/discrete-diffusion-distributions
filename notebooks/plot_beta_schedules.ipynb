{
 "cells": [
  {
   "cell_type": "code",
   "execution_count": 5,
   "metadata": {},
   "outputs": [
    {
     "name": "stdout",
     "output_type": "stream",
     "text": [
      "env: CUDA_VISIBLE_DEVICES=0\n",
      "The autoreload extension is already loaded. To reload it, use:\n",
      "  %reload_ext autoreload\n"
     ]
    }
   ],
   "source": [
    "%env CUDA_VISIBLE_DEVICES=0\n",
    "%load_ext autoreload\n",
    "%autoreload 2\n",
    "from d3exp.config.defaults import defaults_dict\n",
    "from d3exp.beta_schedules import get_beta_schedule\n",
    "from d3exp.diffusion import jax_float64_context\n",
    "import numpy as np\n",
    "from matplotlib import pyplot as plt"
   ]
  },
  {
   "cell_type": "code",
   "execution_count": 13,
   "metadata": {},
   "outputs": [],
   "source": [
    "with jax_float64_context():\n",
    "    beta_schedules = {\n",
    "        config.beta_schedule_type: np.asarray(get_beta_schedule(config).get_betas(config.num_timesteps))\n",
    "        for key, config in defaults_dict.items()\n",
    "    }"
   ]
  },
  {
   "cell_type": "code",
   "execution_count": 11,
   "metadata": {},
   "outputs": [],
   "source": [
    "steps = np.arange(defaults_dict['absorbing'].num_timesteps)\n",
    "def plot_figure(betas, saveto):\n",
    "    fig = plt.figure(figsize=(2, 2), dpi=600)\n",
    "    plt.plot(steps, betas)\n",
    "    plt.yscale('log')\n",
    "    plt.xlabel('Step')\n",
    "    plt.ylabel(r'$\\beta$')\n",
    "    plt.savefig(saveto, bbox_inches='tight', pad_inches=0)\n",
    "    plt.close(fig)\n",
    "for key, betas in beta_schedules.items():\n",
    "    plot_figure(np.asarray(betas), f'../results/beta_{key}.pdf')"
   ]
  },
  {
   "cell_type": "code",
   "execution_count": 24,
   "metadata": {},
   "outputs": [],
   "source": [
    "fig = plt.figure(figsize=(3, 2), dpi=600)\n",
    "for key, betas in beta_schedules.items():\n",
    "    if key == 'step': \n",
    "        betas = betas / 5\n",
    "    kwargs = {}\n",
    "    if key == 'jsd':\n",
    "        kwargs['linestyle'] = '--'\n",
    "    plt.plot(steps, betas, label=key, alpha=0.7, **kwargs)\n",
    "plt.xlabel('Step')\n",
    "plt.ylabel(r'$\\beta$')\n",
    "plt.legend()\n",
    "plt.savefig('../results/beta_schedules.pdf', bbox_inches='tight', pad_inches=0)\n",
    "plt.close(fig)"
   ]
  },
  {
   "cell_type": "code",
   "execution_count": 30,
   "metadata": {},
   "outputs": [],
   "source": [
    "fig = plt.figure(figsize=(3, 2), dpi=600)\n",
    "plt.plot(steps, beta_schedules['linear'], alpha=0) # keep color\n",
    "plt.plot(steps, beta_schedules['cosine'], label='cosine', alpha=0.7)\n",
    "plt.plot(steps, beta_schedules['jsd'], label='jsd', alpha=0.7, linestyle='--')\n",
    "plt.yscale('log')\n",
    "plt.xlabel('Step')\n",
    "plt.ylabel(r'$\\log(\\beta)$')\n",
    "plt.legend()\n",
    "plt.savefig('../results/beta_schedules_logscale.pdf', bbox_inches='tight', pad_inches=0)\n",
    "plt.close(fig)"
   ]
  },
  {
   "cell_type": "code",
   "execution_count": null,
   "metadata": {},
   "outputs": [],
   "source": []
  }
 ],
 "metadata": {
  "kernelspec": {
   "display_name": "d3exp",
   "language": "python",
   "name": "python3"
  },
  "language_info": {
   "codemirror_mode": {
    "name": "ipython",
    "version": 3
   },
   "file_extension": ".py",
   "mimetype": "text/x-python",
   "name": "python",
   "nbconvert_exporter": "python",
   "pygments_lexer": "ipython3",
   "version": "3.10.10"
  },
  "orig_nbformat": 4
 },
 "nbformat": 4,
 "nbformat_minor": 2
}
